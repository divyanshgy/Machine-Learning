{
 "cells": [
  {
   "cell_type": "code",
   "execution_count": 3,
   "id": "d5ec32dd",
   "metadata": {},
   "outputs": [],
   "source": [
    "import pandas as pd\n",
    "import numpy as np\n",
    "import random as rd\n",
    "from sklearn.decomposition import PCA\n",
    "from sklearn import preprocessing\n",
    "import matplotlib.pyplot as plt\n",
    "import warnings\n",
    "warnings.filterwarnings('ignore')"
   ]
  },
  {
   "cell_type": "code",
   "execution_count": 4,
   "id": "604f4ec2",
   "metadata": {},
   "outputs": [],
   "source": [
    "genes=['gene'+str(i) for i in range(1,101)]\n",
    "wt=['wt'+str(i) for i in range(1,6)]\n",
    "ko=['ko'+str(i) for i in range(1,6)]"
   ]
  },
  {
   "cell_type": "code",
   "execution_count": 5,
   "id": "182554b4",
   "metadata": {},
   "outputs": [],
   "source": [
    "df=pd.DataFrame(columns=[*wt,*ko],index=genes)"
   ]
  },
  {
   "cell_type": "code",
   "execution_count": 7,
   "id": "b4ae5d9d",
   "metadata": {},
   "outputs": [],
   "source": [
    "for gene in df.index:\n",
    "    df.loc[gene,'wt1':'wt5']=np.random.poisson(lam=rd.randrange(10,1000),size=5)\n",
    "    df.loc[gene,'ko1':'ko5']=np.random.poisson(lam=rd.randrange(10,1000),size=5)"
   ]
  },
  {
   "cell_type": "code",
   "execution_count": 8,
   "id": "7571e54e",
   "metadata": {},
   "outputs": [
    {
     "data": {
      "text/html": [
       "<div>\n",
       "<style scoped>\n",
       "    .dataframe tbody tr th:only-of-type {\n",
       "        vertical-align: middle;\n",
       "    }\n",
       "\n",
       "    .dataframe tbody tr th {\n",
       "        vertical-align: top;\n",
       "    }\n",
       "\n",
       "    .dataframe thead th {\n",
       "        text-align: right;\n",
       "    }\n",
       "</style>\n",
       "<table border=\"1\" class=\"dataframe\">\n",
       "  <thead>\n",
       "    <tr style=\"text-align: right;\">\n",
       "      <th></th>\n",
       "      <th>wt1</th>\n",
       "      <th>wt2</th>\n",
       "      <th>wt3</th>\n",
       "      <th>wt4</th>\n",
       "      <th>wt5</th>\n",
       "      <th>ko1</th>\n",
       "      <th>ko2</th>\n",
       "      <th>ko3</th>\n",
       "      <th>ko4</th>\n",
       "      <th>ko5</th>\n",
       "    </tr>\n",
       "  </thead>\n",
       "  <tbody>\n",
       "    <tr>\n",
       "      <th>gene1</th>\n",
       "      <td>30</td>\n",
       "      <td>34</td>\n",
       "      <td>37</td>\n",
       "      <td>23</td>\n",
       "      <td>30</td>\n",
       "      <td>130</td>\n",
       "      <td>118</td>\n",
       "      <td>125</td>\n",
       "      <td>125</td>\n",
       "      <td>109</td>\n",
       "    </tr>\n",
       "    <tr>\n",
       "      <th>gene2</th>\n",
       "      <td>757</td>\n",
       "      <td>779</td>\n",
       "      <td>751</td>\n",
       "      <td>752</td>\n",
       "      <td>751</td>\n",
       "      <td>675</td>\n",
       "      <td>713</td>\n",
       "      <td>715</td>\n",
       "      <td>697</td>\n",
       "      <td>721</td>\n",
       "    </tr>\n",
       "    <tr>\n",
       "      <th>gene3</th>\n",
       "      <td>666</td>\n",
       "      <td>653</td>\n",
       "      <td>700</td>\n",
       "      <td>657</td>\n",
       "      <td>705</td>\n",
       "      <td>851</td>\n",
       "      <td>883</td>\n",
       "      <td>895</td>\n",
       "      <td>883</td>\n",
       "      <td>888</td>\n",
       "    </tr>\n",
       "    <tr>\n",
       "      <th>gene4</th>\n",
       "      <td>88</td>\n",
       "      <td>81</td>\n",
       "      <td>101</td>\n",
       "      <td>87</td>\n",
       "      <td>98</td>\n",
       "      <td>215</td>\n",
       "      <td>238</td>\n",
       "      <td>220</td>\n",
       "      <td>235</td>\n",
       "      <td>220</td>\n",
       "    </tr>\n",
       "    <tr>\n",
       "      <th>gene5</th>\n",
       "      <td>434</td>\n",
       "      <td>422</td>\n",
       "      <td>435</td>\n",
       "      <td>422</td>\n",
       "      <td>421</td>\n",
       "      <td>737</td>\n",
       "      <td>741</td>\n",
       "      <td>691</td>\n",
       "      <td>691</td>\n",
       "      <td>740</td>\n",
       "    </tr>\n",
       "    <tr>\n",
       "      <th>...</th>\n",
       "      <td>...</td>\n",
       "      <td>...</td>\n",
       "      <td>...</td>\n",
       "      <td>...</td>\n",
       "      <td>...</td>\n",
       "      <td>...</td>\n",
       "      <td>...</td>\n",
       "      <td>...</td>\n",
       "      <td>...</td>\n",
       "      <td>...</td>\n",
       "    </tr>\n",
       "    <tr>\n",
       "      <th>gene96</th>\n",
       "      <td>794</td>\n",
       "      <td>772</td>\n",
       "      <td>798</td>\n",
       "      <td>785</td>\n",
       "      <td>792</td>\n",
       "      <td>401</td>\n",
       "      <td>448</td>\n",
       "      <td>432</td>\n",
       "      <td>399</td>\n",
       "      <td>451</td>\n",
       "    </tr>\n",
       "    <tr>\n",
       "      <th>gene97</th>\n",
       "      <td>88</td>\n",
       "      <td>96</td>\n",
       "      <td>103</td>\n",
       "      <td>89</td>\n",
       "      <td>91</td>\n",
       "      <td>809</td>\n",
       "      <td>781</td>\n",
       "      <td>808</td>\n",
       "      <td>773</td>\n",
       "      <td>748</td>\n",
       "    </tr>\n",
       "    <tr>\n",
       "      <th>gene98</th>\n",
       "      <td>476</td>\n",
       "      <td>471</td>\n",
       "      <td>493</td>\n",
       "      <td>483</td>\n",
       "      <td>541</td>\n",
       "      <td>319</td>\n",
       "      <td>309</td>\n",
       "      <td>317</td>\n",
       "      <td>314</td>\n",
       "      <td>312</td>\n",
       "    </tr>\n",
       "    <tr>\n",
       "      <th>gene99</th>\n",
       "      <td>940</td>\n",
       "      <td>976</td>\n",
       "      <td>905</td>\n",
       "      <td>1005</td>\n",
       "      <td>983</td>\n",
       "      <td>694</td>\n",
       "      <td>644</td>\n",
       "      <td>629</td>\n",
       "      <td>677</td>\n",
       "      <td>620</td>\n",
       "    </tr>\n",
       "    <tr>\n",
       "      <th>gene100</th>\n",
       "      <td>527</td>\n",
       "      <td>480</td>\n",
       "      <td>519</td>\n",
       "      <td>493</td>\n",
       "      <td>491</td>\n",
       "      <td>201</td>\n",
       "      <td>212</td>\n",
       "      <td>185</td>\n",
       "      <td>214</td>\n",
       "      <td>188</td>\n",
       "    </tr>\n",
       "  </tbody>\n",
       "</table>\n",
       "<p>100 rows × 10 columns</p>\n",
       "</div>"
      ],
      "text/plain": [
       "         wt1  wt2  wt3   wt4  wt5  ko1  ko2  ko3  ko4  ko5\n",
       "gene1     30   34   37    23   30  130  118  125  125  109\n",
       "gene2    757  779  751   752  751  675  713  715  697  721\n",
       "gene3    666  653  700   657  705  851  883  895  883  888\n",
       "gene4     88   81  101    87   98  215  238  220  235  220\n",
       "gene5    434  422  435   422  421  737  741  691  691  740\n",
       "...      ...  ...  ...   ...  ...  ...  ...  ...  ...  ...\n",
       "gene96   794  772  798   785  792  401  448  432  399  451\n",
       "gene97    88   96  103    89   91  809  781  808  773  748\n",
       "gene98   476  471  493   483  541  319  309  317  314  312\n",
       "gene99   940  976  905  1005  983  694  644  629  677  620\n",
       "gene100  527  480  519   493  491  201  212  185  214  188\n",
       "\n",
       "[100 rows x 10 columns]"
      ]
     },
     "execution_count": 8,
     "metadata": {},
     "output_type": "execute_result"
    }
   ],
   "source": [
    "df"
   ]
  },
  {
   "cell_type": "code",
   "execution_count": 14,
   "id": "4e9ce8cb",
   "metadata": {},
   "outputs": [
    {
     "data": {
      "text/plain": [
       "(100, 10)"
      ]
     },
     "execution_count": 14,
     "metadata": {},
     "output_type": "execute_result"
    }
   ],
   "source": [
    "df.shape"
   ]
  },
  {
   "cell_type": "code",
   "execution_count": 15,
   "id": "2ac8a15f",
   "metadata": {},
   "outputs": [],
   "source": [
    "scaled_data=preprocessing.scale(df.T)"
   ]
  },
  {
   "cell_type": "code",
   "execution_count": 16,
   "id": "6bacd7ec",
   "metadata": {},
   "outputs": [],
   "source": [
    "pca=PCA()\n",
    "pca.fit(scaled_data)\n",
    "pca_data=pca.transform(scaled_data)"
   ]
  },
  {
   "cell_type": "code",
   "execution_count": 18,
   "id": "71c3c068",
   "metadata": {},
   "outputs": [],
   "source": [
    "per_var=np.round(pca.explained_variance_ratio_*100,decimals=1)\n",
    "labels=['PC'+str(i) for i in range(1,len(per_var)+1)]"
   ]
  },
  {
   "cell_type": "code",
   "execution_count": 19,
   "id": "4af2ee5c",
   "metadata": {},
   "outputs": [
    {
     "data": {
      "image/png": "[encoded data removed]",
      "text/plain": [
       "<Figure size 432x288 with 1 Axes>"
      ]
     },
     "metadata": {
      "needs_background": "light"
     },
     "output_type": "display_data"
    }
   ],
   "source": [
    "plt.bar(x=range(1,len(per_var)+1), height=per_var, tick_label=labels)\n",
    "plt.ylabel('Percentage of Explained Variance')\n",
    "plt.xlabel('Principal Component')\n",
    "plt.title('Scree Plot')\n",
    "plt.show()"
   ]
  },
  {
   "cell_type": "code",
   "execution_count": 20,
   "id": "af8db80f",
   "metadata": {},
   "outputs": [],
   "source": [
    "pca_df=pd.DataFrame(pca_data,index=[*wt, *ko],columns=labels)"
   ]
  },
  {
   "cell_type": "code",
   "execution_count": 21,
   "id": "67fa35a3",
   "metadata": {},
   "outputs": [
    {
     "data": {
      "image/png": "[encoded data removed]",
      "text/plain": [
       "<Figure size 432x288 with 1 Axes>"
      ]
     },
     "metadata": {
      "needs_background": "light"
     },
     "output_type": "display_data"
    }
   ],
   "source": [
    "plt.scatter(pca_df.PC1, pca_df.PC2)\n",
    "plt.title('My PCA Graph')\n",
    "plt.xlabel('PC1 - {0}%'.format(per_var[0]))\n",
    "plt.ylabel('PC2 - {0}%'.format(per_var[1]))\n",
    "for sample in pca_df.index:\n",
    "    plt.annotate(sample, (pca_df.PC1.loc[sample], pca_df.PC2.loc[sample]))\n",
    "plt.show()"
   ]
  },
  {
   "cell_type": "code",
   "execution_count": 22,
   "id": "b4f0b647",
   "metadata": {},
   "outputs": [],
   "source": [
    "# Determine which genes had the biggest influence on PC1\n",
    "# get the name of the top 10 measurements (genes) that contribute\n",
    "# most to pc1.\n",
    "# first, get the loading scores\n",
    "loading_scores=pd.Series(pca.components_[0],index=genes)\n",
    "sorted_loading_scores=loading_scores.abs().sort_values(ascending=False)"
   ]
  },
  {
   "cell_type": "code",
   "execution_count": 23,
   "id": "619ca643",
   "metadata": {},
   "outputs": [
    {
     "name": "stdout",
     "output_type": "stream",
     "text": [
      "gene12   -0.104462\n",
      "gene35   -0.104410\n",
      "gene18   -0.104406\n",
      "gene21    0.104404\n",
      "gene87    0.104399\n",
      "gene57   -0.104393\n",
      "gene83    0.104392\n",
      "gene32   -0.104391\n",
      "gene48   -0.104390\n",
      "gene97    0.104375\n",
      "dtype: float64\n"
     ]
    }
   ],
   "source": [
    "top_ten_genes=sorted_loading_scores[0:10].index.values\n",
    "print(loading_scores[top_ten_genes])"
   ]
  },
  {
   "cell_type": "code",
   "execution_count": null,
   "id": "c21a0722",
   "metadata": {},
   "outputs": [],
   "source": []
  }
 ],
 "metadata": {
  "kernelspec": {
   "display_name": "Python 3 (ipykernel)",
   "language": "python",
   "name": "python3"
  },
  "language_info": {
   "codemirror_mode": {
    "name": "ipython",
    "version": 3
   },
   "file_extension": ".py",
   "mimetype": "text/x-python",
   "name": "python",
   "nbconvert_exporter": "python",
   "pygments_lexer": "ipython3",
   "version": "3.9.12"
  }
 },
 "nbformat": 4,
 "nbformat_minor": 5
}
